{
 "cells": [
  {
   "cell_type": "code",
   "execution_count": 1,
   "metadata": {},
   "outputs": [],
   "source": [
    "# Python3.5\n",
    "import numpy as np\n",
    "from eccentric.synthetic import SyntheticFlares, HotJupiterHost"
   ]
  },
  {
   "cell_type": "markdown",
   "metadata": {},
   "source": [
    "### Create 60 Hot Jupiter hosts with time series observations, and instrinsic and SPI flares\n",
    "\n",
    "Creating the following data set:\n",
    "\n",
    "- 60 Hot Jupiters\n",
    "- typical observation time 45 days\n",
    "- a third each: 1 min, 2 min, and 30 min cadence\n",
    "- up to 22 per day, at least 1\n",
    "- an SPI flare occurs per period if period is below 4 days"
   ]
  },
  {
   "cell_type": "code",
   "execution_count": 2,
   "metadata": {},
   "outputs": [],
   "source": [
    "n = 20 * 3\n",
    "periods = np.random.rand(n) * 25. + 0.5\n",
    "observation_deltats = np.random.rand(n) * 90\n",
    "cadences = [60] * int(n/3) + [2] * int(n/3) + [30] * int(n/3) \n",
    "flares_per_days = 10 / periods +1# maximum 22 flares per day, at least 1\n",
    "sizes = np.zeros_like(periods)\n",
    "sizes[np.where(periods < 4.)] = 1\n",
    "params = list(zip(periods, observation_deltats, cadences, flares_per_days, sizes))"
   ]
  },
  {
   "cell_type": "code",
   "execution_count": 3,
   "metadata": {},
   "outputs": [],
   "source": [
    "for i, (p, ot, c, fpd, s) in enumerate(params):\n",
    "    sf = SyntheticFlares(hjhost=HotJupiterHost(period=p), #in days\n",
    "                         observation_deltat=ot, # in days\n",
    "                         cadence=c, #observations per hour\n",
    "                         flares_per_day=fpd) #in days^-1\n",
    "\n",
    "    sf.generate_synthetic_flares(model=\"Gauss\",\n",
    "                                 size=int(s), # number of SPI flares per periastron passage\n",
    "                                 width=p/20., # in days (standard deviation)\n",
    "                                 phase=0.7) # default value, can be chosen from 0 to 1\n",
    "    sf.write_out_synthetic_flare_table(path=\"synth/{:03d}_eccentric_hjhost_with_flares.csv\".format(i))"
   ]
  },
  {
   "cell_type": "markdown",
   "metadata": {},
   "source": [
    "### Stack and view histogram of all generated data"
   ]
  },
  {
   "cell_type": "code",
   "execution_count": 4,
   "metadata": {},
   "outputs": [],
   "source": [
    "import pandas as pd\n",
    "import matplotlib.pyplot as plt\n",
    "%matplotlib inline"
   ]
  },
  {
   "cell_type": "code",
   "execution_count": 5,
   "metadata": {},
   "outputs": [],
   "source": [
    "paths = ! ls synth/*.csv"
   ]
  },
  {
   "cell_type": "code",
   "execution_count": 6,
   "metadata": {},
   "outputs": [],
   "source": [
    "allf = pd.DataFrame()\n",
    "for path in paths:\n",
    "    df = pd.read_csv(path, skiprows=12)\n",
    "    with open(path, 'r') as file:\n",
    "        file.readline()\n",
    "        file.readline()\n",
    "        period = float(file.readline()[1:])\n",
    "        file.readline()\n",
    "        file.readline()\n",
    "        first_periastron = float(file.readline()[1:])\n",
    "    df[\"stacked_and_scaled\"] = ((df.peak_time - first_periastron) % period) / period\n",
    "    allf = pd.concat([allf, df])"
   ]
  },
  {
   "cell_type": "code",
   "execution_count": 7,
   "metadata": {},
   "outputs": [
    {
     "data": {
      "text/plain": [
       "source\n",
       "ambiguous      13\n",
       "intrinsic    6383\n",
       "spi           173\n",
       "Name: stacked_and_scaled, dtype: int64"
      ]
     },
     "execution_count": 7,
     "metadata": {},
     "output_type": "execute_result"
    }
   ],
   "source": [
    "allf.groupby(\"source\").stacked_and_scaled.count()"
   ]
  },
  {
   "cell_type": "code",
   "execution_count": 8,
   "metadata": {},
   "outputs": [
    {
     "data": {
      "image/png": "[encoded data removed]",
      "text/plain": [
       "<Figure size 432x288 with 1 Axes>"
      ]
     },
     "metadata": {
      "needs_background": "light"
     },
     "output_type": "display_data"
    }
   ],
   "source": [
    "plt.hist(allf.stacked_and_scaled, bins=50)\n",
    "plt.axvline(0.2, c=\"r\");    "
   ]
  },
  {
   "cell_type": "code",
   "execution_count": null,
   "metadata": {},
   "outputs": [],
   "source": []
  }
 ],
 "metadata": {
  "kernelspec": {
   "display_name": "myenv",
   "language": "python",
   "name": "myenv"
  },
  "language_info": {
   "codemirror_mode": {
    "name": "ipython",
    "version": 3
   },
   "file_extension": ".py",
   "mimetype": "text/x-python",
   "name": "python",
   "nbconvert_exporter": "python",
   "pygments_lexer": "ipython3",
   "version": "3.6.5"
  }
 },
 "nbformat": 4,
 "nbformat_minor": 1
}
