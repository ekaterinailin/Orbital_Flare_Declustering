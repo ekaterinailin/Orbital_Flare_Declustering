{
 "cells": [
  {
   "cell_type": "code",
   "execution_count": 1,
   "metadata": {
    "collapsed": false
   },
   "outputs": [
   ],
   "source": [
    "# Python3.5\n",
    "import numpy as np\n",
    "from eccentric.synthetic import SyntheticFlares, HotJupiterHost"
   ]
  },
  {
   "cell_type": "markdown",
   "metadata": {
    "collapsed": false
   },
   "source": [
    "### Create 60 Hot Jupiter hosts with time series observations, and instrictic and SPI flares\n",
    "\n",
    "Creating the following data set:\n",
    "\n",
    "- 60 Hot Jupiters\n",
    "- typical observation time 45 days\n",
    "- a third each: 1 min, 2 min, and 30 min cadence\n",
    "- up to 22 per day, at least 1\n",
    "- an SPI flare occurs per period if period is below 4 days"
   ]
  },
  {
   "cell_type": "code",
   "execution_count": 45,
   "metadata": {
    "collapsed": false
   },
   "outputs": [
   ],
   "source": [
    "n = 20 * 3\n",
    "periods = np.random.rand(n) * 25. + 0.5\n",
    "observation_deltats = np.random.rand(n) * 90\n",
    "cadences = [60] * int(n/3) + [2] * int(n/3) + [30] * int(n/3) \n",
    "flares_per_days = 10 / periods +1# maximum 22 flares per day, at least 1\n",
    "sizes = np.zeros_like(periods)\n",
    "sizes[np.where(periods < 4.)] = 1\n",
    "params = list(zip(periods, observation_deltats, cadences, flares_per_days, sizes))"
   ]
  },
  {
   "cell_type": "code",
   "execution_count": 46,
   "metadata": {
    "collapsed": false
   },
   "outputs": [
   ],
   "source": [
    "for i, (p, ot, c, fpd, s) in enumerate(params):\n",
    "    sf = SyntheticFlares(hjhost=HotJupiterHost(period=p), #in days\n",
    "                         observation_deltat=ot, # in days\n",
    "                         cadence=c, #observations per hour\n",
    "                         flares_per_day=fpd) #in days^-1\n",
    "\n",
    "    sf.generate_synthetic_flares(model=\"Gauss\",\n",
    "                                 size=int(s), # number of SPI flares per periastron passage\n",
    "                                 width=p/20., # in days (standard deviation)\n",
    "                                 phase=0.7) # default value, can be chosen from 0 to 1\n",
    "    sf.write_out_synthetic_flare_table(path=\"synth/{:03d}_eccentric_hjhost_with_flares.csv\".format(i))"
   ]
  },
  {
   "cell_type": "markdown",
   "metadata": {
    "collapsed": false
   },
   "source": [
    "### Stack and view histogram of all generated data"
   ]
  },
  {
   "cell_type": "code",
   "execution_count": 47,
   "metadata": {
    "collapsed": false
   },
   "outputs": [
   ],
   "source": [
    "import pandas as pd\n",
    "import matplotlib.pyplot as plt\n",
    "%matplotlib inline"
   ]
  },
  {
   "cell_type": "code",
   "execution_count": 48,
   "metadata": {
    "collapsed": false
   },
   "outputs": [
   ],
   "source": [
    "paths = ! ls synth/*.csv"
   ]
  },
  {
   "cell_type": "code",
   "execution_count": 49,
   "metadata": {
    "collapsed": false
   },
   "outputs": [
   ],
   "source": [
    "allf = pd.DataFrame()\n",
    "for path in paths:\n",
    "    df = pd.read_csv(path, skiprows=12)\n",
    "    with open(path, 'r') as file:\n",
    "        file.readline()\n",
    "        file.readline()\n",
    "        period = float(file.readline())\n",
    "        file.readline()\n",
    "        file.readline()\n",
    "        first_periastron = float(file.readline())\n",
    "    df[\"stacked_and_scaled\"] = ((df.peak_time - first_periastron) % period) / period\n",
    "    allf = pd.concat([allf, df])"
   ]
  },
  {
   "cell_type": "code",
   "execution_count": 50,
   "metadata": {
    "collapsed": false
   },
   "outputs": [
    {
     "data": {
      "text/html": [
       "<div>\n",
       "<style scoped>\n",
       "    .dataframe tbody tr th:only-of-type {\n",
       "        vertical-align: middle;\n",
       "    }\n",
       "\n",
       "    .dataframe tbody tr th {\n",
       "        vertical-align: top;\n",
       "    }\n",
       "\n",
       "    .dataframe thead th {\n",
       "        text-align: right;\n",
       "    }\n",
       "</style>\n",
       "<table border=\"1\" class=\"dataframe\">\n",
       "  <thead>\n",
       "    <tr style=\"text-align: right;\">\n",
       "      <th></th>\n",
       "      <th>peak_time</th>\n",
       "      <th>stacked_and_scaled</th>\n",
       "    </tr>\n",
       "    <tr>\n",
       "      <th>source</th>\n",
       "      <th></th>\n",
       "      <th></th>\n",
       "    </tr>\n",
       "  </thead>\n",
       "  <tbody>\n",
       "    <tr>\n",
       "      <td>ambiguous</td>\n",
       "      <td>4</td>\n",
       "      <td>4</td>\n",
       "    </tr>\n",
       "    <tr>\n",
       "      <td>intrinsic</td>\n",
       "      <td>6844</td>\n",
       "      <td>6844</td>\n",
       "    </tr>\n",
       "    <tr>\n",
       "      <td>spi</td>\n",
       "      <td>127</td>\n",
       "      <td>127</td>\n",
       "    </tr>\n",
       "  </tbody>\n",
       "</table>\n",
       "</div>"
      ]
     },
     "execution_count": 50,
     "metadata": {
     },
     "output_type": "execute_result"
    }
   ],
   "source": [
    "allf.groupby(\"source\").count()"
   ]
  },
  {
   "cell_type": "code",
   "execution_count": 54,
   "metadata": {
    "collapsed": false
   },
   "outputs": [
    {
     "data": {
      "image/png": "[encoded data removed]"
     },
     "execution_count": 54,
     "metadata": {
     },
     "output_type": "execute_result"
    }
   ],
   "source": [
    "plt.hist(allf.stacked_and_scaled, bins=50)\n",
    "plt.axvline(0.2, c=\"r\");    "
   ]
  },
  {
   "cell_type": "code",
   "execution_count": 0,
   "metadata": {
    "collapsed": false
   },
   "outputs": [
   ],
   "source": [
   ]
  }
 ],
 "metadata": {
  "kernelspec": {
   "display_name": "Anaconda(Py3.5)",
   "language": "python",
   "name": "py35"
  },
  "language_info": {
   "codemirror_mode": {
    "name": "ipython",
    "version": 3
   },
   "file_extension": ".py",
   "mimetype": "text/x-python",
   "name": "python",
   "nbconvert_exporter": "python",
   "pygments_lexer": "ipython3",
   "version": "3.5.4"
  }
 },
 "nbformat": 4,
 "nbformat_minor": 0
}