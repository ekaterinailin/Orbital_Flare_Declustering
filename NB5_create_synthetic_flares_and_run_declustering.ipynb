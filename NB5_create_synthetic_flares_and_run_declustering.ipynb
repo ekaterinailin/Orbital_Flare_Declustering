{
 "cells": [
  {
   "cell_type": "code",
   "execution_count": 1,
   "metadata": {},
   "outputs": [],
   "source": [
    "# Python3.6\n",
    "from eccentric.synthetic import SyntheticFlares, HotJupiterHost\n",
    "from eccentric.spimodel import SPI_Model\n",
    "\n",
    "import matplotlib.pyplot as plt\n",
    "%matplotlib inline"
   ]
  },
  {
   "cell_type": "markdown",
   "metadata": {},
   "source": [
    "### Create a Hot Jupiter host and a time series observations:"
   ]
  },
  {
   "cell_type": "code",
   "execution_count": 2,
   "metadata": {},
   "outputs": [
    {
     "name": "stdout",
     "output_type": "stream",
     "text": [
      "Observation time series:  [6999.         6999.00694444 6999.01388889 6999.02083333 6999.02777778] \n",
      "Poisson parameter for the time series converted from flares_per_day:  0.020833333333333332\n"
     ]
    }
   ],
   "source": [
    "\n",
    "sf = SyntheticFlares(hjhost=HotJupiterHost(period=15, a=1., e=.3, first_periastron_time=7000.,), \n",
    "                     #period in days, a in AU, first periastron time must occur after first_observation time...\n",
    "                     observation_deltat=105, # in days\n",
    "                     cadence=6, #observations per hour\n",
    "                     flares_per_day=3, #in days^-1\n",
    "                     first_observation_time=6999)# day\n",
    "print(\"Observation time series: \", sf.observation_time[:5], \n",
    "      \"\\nPoisson parameter for the time series converted from flares_per_day: \", sf.poisson_parameter)"
   ]
  },
  {
   "cell_type": "markdown",
   "metadata": {},
   "source": [
    "### Generate some synthetic flares\n",
    "\n",
    "The default model is a Gaussian distribution at phase $\\phi=0.7$, when periastron is at $\\phi=0.5$."
   ]
  },
  {
   "cell_type": "code",
   "execution_count": 3,
   "metadata": {
    "scrolled": true
   },
   "outputs": [],
   "source": [
    "phase = .7\n",
    "sf.generate_synthetic_flares(model=\"Gauss\",\n",
    "                             size=3, # number of SPI flares per periastron passage\n",
    "                             width=0.02, # in days (standard deviation)\n",
    "                             phase=phase) #  can be chosen from 0 to 1\n"
   ]
  },
  {
   "cell_type": "code",
   "execution_count": 4,
   "metadata": {},
   "outputs": [
    {
     "data": {
      "text/html": [
       "<div>\n",
       "<style scoped>\n",
       "    .dataframe tbody tr th:only-of-type {\n",
       "        vertical-align: middle;\n",
       "    }\n",
       "\n",
       "    .dataframe tbody tr th {\n",
       "        vertical-align: top;\n",
       "    }\n",
       "\n",
       "    .dataframe thead th {\n",
       "        text-align: right;\n",
       "    }\n",
       "</style>\n",
       "<table border=\"1\" class=\"dataframe\">\n",
       "  <thead>\n",
       "    <tr style=\"text-align: right;\">\n",
       "      <th></th>\n",
       "      <th>source</th>\n",
       "      <th>peak_time</th>\n",
       "      <th>stacked_peak_time</th>\n",
       "    </tr>\n",
       "  </thead>\n",
       "  <tbody>\n",
       "    <tr>\n",
       "      <th>15</th>\n",
       "      <td>spi</td>\n",
       "      <td>7032.965278</td>\n",
       "      <td>0.264352</td>\n",
       "    </tr>\n",
       "    <tr>\n",
       "      <th>16</th>\n",
       "      <td>spi</td>\n",
       "      <td>7033.020833</td>\n",
       "      <td>0.268056</td>\n",
       "    </tr>\n",
       "    <tr>\n",
       "      <th>17</th>\n",
       "      <td>spi</td>\n",
       "      <td>7002.986111</td>\n",
       "      <td>0.265741</td>\n",
       "    </tr>\n",
       "    <tr>\n",
       "      <th>18</th>\n",
       "      <td>spi</td>\n",
       "      <td>7003.006944</td>\n",
       "      <td>0.267130</td>\n",
       "    </tr>\n",
       "    <tr>\n",
       "      <th>19</th>\n",
       "      <td>spi</td>\n",
       "      <td>7093.020833</td>\n",
       "      <td>0.268056</td>\n",
       "    </tr>\n",
       "  </tbody>\n",
       "</table>\n",
       "</div>"
      ],
      "text/plain": [
       "   source    peak_time  stacked_peak_time\n",
       "15    spi  7032.965278           0.264352\n",
       "16    spi  7033.020833           0.268056\n",
       "17    spi  7002.986111           0.265741\n",
       "18    spi  7003.006944           0.267130\n",
       "19    spi  7093.020833           0.268056"
      ]
     },
     "execution_count": 4,
     "metadata": {},
     "output_type": "execute_result"
    }
   ],
   "source": [
    "sf.all_flares.tail()"
   ]
  },
  {
   "cell_type": "markdown",
   "metadata": {},
   "source": [
    "### Instantiate a model for flaring SPI with given data"
   ]
  },
  {
   "cell_type": "code",
   "execution_count": 5,
   "metadata": {},
   "outputs": [],
   "source": [
    "spi = SPI_Model(major_axis_a=sf.hjhost.major_axis_a,\n",
    "                eccentricity=sf.hjhost.eccentricity,\n",
    "                data=sf.all_flares.stacked_peak_time,\n",
    "                n_orbits=sf.observation_deltat / sf.hjhost.period)"
   ]
  },
  {
   "cell_type": "code",
   "execution_count": 6,
   "metadata": {},
   "outputs": [
    {
     "data": {
      "image/png": "[encoded data removed]",
      "text/plain": [
       "<Figure size 432x288 with 1 Axes>"
      ]
     },
     "metadata": {
      "needs_background": "light"
     },
     "output_type": "display_data"
    }
   ],
   "source": [
    "plt.hist(sf.all_flares.stacked_peak_time, bins=20)\n",
    "plt.xlabel(\"phase\")\n",
    "plt.xlim(0,1);"
   ]
  },
  {
   "cell_type": "code",
   "execution_count": 7,
   "metadata": {},
   "outputs": [
    {
     "data": {
      "text/plain": [
       "(40.05523740059366, 12.67247725172641)"
      ]
     },
     "execution_count": 7,
     "metadata": {},
     "output_type": "execute_result"
    }
   ],
   "source": [
    "spi.estimate_two_parameters()\n",
    "# gives base intensity and peak scaling factor"
   ]
  },
  {
   "cell_type": "code",
   "execution_count": 8,
   "metadata": {},
   "outputs": [],
   "source": [
    "# Wann ist der Peak?\n",
    "# What if I do not have full periods covered?"
   ]
  }
 ],
 "metadata": {
  "kernelspec": {
   "display_name": "flaresinclustersii",
   "language": "python",
   "name": "flaresinclustersii"
  },
  "language_info": {
   "codemirror_mode": {
    "name": "ipython",
    "version": 3
   },
   "file_extension": ".py",
   "mimetype": "text/x-python",
   "name": "python",
   "nbconvert_exporter": "python",
   "pygments_lexer": "ipython3",
   "version": "3.6.8"
  }
 },
 "nbformat": 4,
 "nbformat_minor": 1
}
