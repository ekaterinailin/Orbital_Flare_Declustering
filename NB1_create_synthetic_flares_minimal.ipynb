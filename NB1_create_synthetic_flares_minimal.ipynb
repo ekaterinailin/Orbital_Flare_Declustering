{
 "cells": [
  {
   "cell_type": "code",
   "execution_count": 1,
   "metadata": {},
   "outputs": [],
   "source": [
    "# Python3.5\n",
    "from eccentric.synthetic import SyntheticFlares, HotJupiterHost"
   ]
  },
  {
   "cell_type": "markdown",
   "metadata": {},
   "source": [
    "### Create a Hot Jupiter host and a time series observations:"
   ]
  },
  {
   "cell_type": "code",
   "execution_count": 2,
   "metadata": {},
   "outputs": [
    {
     "name": "stdout",
     "output_type": "stream",
     "text": [
      "Observation time series:  [0.         0.00694444 0.01388889 0.02083333 0.02777778] \n",
      "Poisson parameter for the time series converted from flares_per_day:  0.020833333333333332\n"
     ]
    }
   ],
   "source": [
    "sf = SyntheticFlares(hjhost=HotJupiterHost(period=15), #in days\n",
    "                     observation_deltat=40, # in days\n",
    "                     cadence=6, #observations per hour\n",
    "                     flares_per_day=3) #in days^-1\n",
    "print(\"Observation time series: \", sf.observation_time[:5], \n",
    "      \"\\nPoisson parameter for the time series converted from flares_per_day: \", sf.poisson_parameter)"
   ]
  },
  {
   "cell_type": "markdown",
   "metadata": {},
   "source": [
    "### Generate some synthetic flares\n",
    "\n",
    "The default model is a Gaussian distribution at phase $\\phi=0.7$, when periastron is at $\\phi=0.5$."
   ]
  },
  {
   "cell_type": "code",
   "execution_count": 3,
   "metadata": {},
   "outputs": [
    {
     "data": {
      "text/html": [
       "<div>\n",
       "<style scoped>\n",
       "    .dataframe tbody tr th:only-of-type {\n",
       "        vertical-align: middle;\n",
       "    }\n",
       "\n",
       "    .dataframe tbody tr th {\n",
       "        vertical-align: top;\n",
       "    }\n",
       "\n",
       "    .dataframe thead th {\n",
       "        text-align: right;\n",
       "    }\n",
       "</style>\n",
       "<table border=\"1\" class=\"dataframe\">\n",
       "  <thead>\n",
       "    <tr style=\"text-align: right;\">\n",
       "      <th></th>\n",
       "      <th>source</th>\n",
       "      <th>peak_time</th>\n",
       "    </tr>\n",
       "  </thead>\n",
       "  <tbody>\n",
       "    <tr>\n",
       "      <th>0</th>\n",
       "      <td>intrinsic</td>\n",
       "      <td>0.097222</td>\n",
       "    </tr>\n",
       "    <tr>\n",
       "      <th>1</th>\n",
       "      <td>intrinsic</td>\n",
       "      <td>0.368056</td>\n",
       "    </tr>\n",
       "    <tr>\n",
       "      <th>2</th>\n",
       "      <td>intrinsic</td>\n",
       "      <td>0.729167</td>\n",
       "    </tr>\n",
       "    <tr>\n",
       "      <th>3</th>\n",
       "      <td>intrinsic</td>\n",
       "      <td>0.805556</td>\n",
       "    </tr>\n",
       "    <tr>\n",
       "      <th>4</th>\n",
       "      <td>intrinsic</td>\n",
       "      <td>1.659722</td>\n",
       "    </tr>\n",
       "  </tbody>\n",
       "</table>\n",
       "</div>"
      ],
      "text/plain": [
       "      source  peak_time\n",
       "0  intrinsic   0.097222\n",
       "1  intrinsic   0.368056\n",
       "2  intrinsic   0.729167\n",
       "3  intrinsic   0.805556\n",
       "4  intrinsic   1.659722"
      ]
     },
     "execution_count": 3,
     "metadata": {},
     "output_type": "execute_result"
    }
   ],
   "source": [
    "sf.generate_synthetic_flares(model=\"Gauss\",\n",
    "                             size=2, # number of SPI flares per periastron passage\n",
    "                             width=0.02, # in days (standard deviation)\n",
    "                             phase=0.7) # default value, can be chosen from 0 to 1\n",
    "sf.all_flares.head()"
   ]
  },
  {
   "cell_type": "markdown",
   "metadata": {},
   "source": [
    "### Write results to file"
   ]
  },
  {
   "cell_type": "code",
   "execution_count": 4,
   "metadata": {},
   "outputs": [],
   "source": [
    "sf.write_out_synthetic_flare_table(path=\"synth/eccentric_hjhost_with_flares.csv\")"
   ]
  },
  {
   "cell_type": "code",
   "execution_count": null,
   "metadata": {},
   "outputs": [],
   "source": []
  }
 ],
 "metadata": {
  "kernelspec": {
   "display_name": "myenv",
   "language": "python",
   "name": "myenv"
  },
  "language_info": {
   "codemirror_mode": {
    "name": "ipython",
    "version": 3
   },
   "file_extension": ".py",
   "mimetype": "text/x-python",
   "name": "python",
   "nbconvert_exporter": "python",
   "pygments_lexer": "ipython3",
   "version": "3.6.5"
  }
 },
 "nbformat": 4,
 "nbformat_minor": 1
}
